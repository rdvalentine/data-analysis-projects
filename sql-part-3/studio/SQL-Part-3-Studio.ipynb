{
 "cells": [
  {
   "cell_type": "markdown",
   "metadata": {},
   "source": [
    "# SQL Part 3 Studio\n",
    "\n",
    "Let's practice your SQL querying skills! For each question, work along in the notebook, adding your query and answering the questions.\n",
    "\n",
    "## The Dataset\n",
    "\n",
    "We will be using the Goodbooks-10k dataset from the exercises in the prep work. Feel free reference your previous notebooks.\n",
    "\n",
    "1. The dataset can be found here: [goodbooks-10k](https://www.kaggle.com/zygmunt/goodbooks-10k)\n",
    "1. You can access `BooksDB` in the LaunchCode server.\n",
    "\n",
    "## Business Issue\n",
    "\n",
    "You are an employee at a small independent bookstore and you have been tasked with increasing sales.  You decide to use `BooksDB` to find books and themes to highlight in fun promotions throughout each month and/or season.  We will be starting with March and then you will have a chance to explore another month of your choosing.  We want to come up with a list of promotions to run each month.  If you are looking for ideas, here are some resources on different holidays:\n",
    "\n",
    "- [https://www.calendarr.com/united-states/calendar-2022/](https://www.calendarr.com/united-states/calendar-2022/)\n",
    "- [https://www.holidayinsights.com/moreholidays/](https://www.holidayinsights.com/moreholidays/)\n",
    "    - Click on a month and it will take you to a more detailed page"
   ]
  },
  {
   "cell_type": "markdown",
   "metadata": {},
   "source": [
    "## Part 1:  March - Women's History Month, National Pie Day (3/14), St. Patrick's Day (3/17), Season - Spring"
   ]
  },
  {
   "cell_type": "markdown",
   "metadata": {},
   "source": [
    "### Event 1: Women's History Month\n",
    "\n",
    "Highlight popular women writers based on ratings from `BooksDB` by writing a query that returns `tag_id`, the number of times each `tag_id` is used and the `tag_name`. Use the `GROUP BY` and `HAVING` clause to narrow your focus and try multiple keywords, such as \"woman\" and \"female\"."
   ]
  },
  {
   "cell_type": "code",
   "execution_count": null,
   "metadata": {
    "vscode": {
     "languageId": "sql"
    }
   },
   "outputs": [],
   "source": [
    "SELECT \n",
    "tags.tag_id,\n",
    "tags.tag_name,\n",
    "COUNT(book_tags.tag_id) AS tag_count\n",
    "FROM BooksDB.dbo.tags AS tags\n",
    "FULL JOIN BooksDB.dbo.book_tags AS book_tags\n",
    "ON tags.tag_id = book_tags.tag_id\n",
    "GROUP BY tags.tag_id, tags.tag_name\n",
    "HAVING tags.tag_name like '%women%' \n",
    "OR tags.tag_name like '%female%'\n",
    "OR tags.tag_name like '%woman%'\n",
    "ORDER BY tag_count DESC;"
   ]
  },
  {
   "cell_type": "markdown",
   "metadata": {},
   "source": [
    "### Event 2: Choose another event from March/Spring\n",
    "\n",
    "Write a query to return authors, titles, ratings, and `tag_id` that you would want to promote during your chosen event."
   ]
  },
  {
   "cell_type": "code",
   "execution_count": null,
   "metadata": {
    "vscode": {
     "languageId": "ruby"
    }
   },
   "outputs": [],
   "source": [
    "SELECT \n",
    "books.authors,\n",
    "books.title,\n",
    "books.average_rating,\n",
    "tags.tag_id\n",
    "FROM BooksDB.dbo.tags AS tags\n",
    "INNER JOIN BooksDB.dbo.book_tags AS book_tags\n",
    "ON tags.tag_id = book_tags.tag_id\n",
    "INNER JOIN BooksDB.dbo.books AS books\n",
    "ON book_tags.goodreads_book_id = books.best_book_id\n",
    "WHERE tags.tag_name like '%St.Patrick%' OR tags.tag_name like '%Ireland%' "
   ]
  },
  {
   "cell_type": "code",
   "execution_count": null,
   "metadata": {
    "vscode": {
     "languageId": "sql"
    }
   },
   "outputs": [],
   "source": [
    "SELECT \n",
    "    books.title,\n",
    "    books.authors,\n",
    "    books.average_rating,\n",
    "    book_tags.tag_id,\n",
    "    tags.tag_name\n",
    "FROM BooksDB.dbo.books AS books\n",
    "JOIN BooksDB.dbo.book_tags AS book_tags\n",
    "ON books.best_book_id = book_tags.goodreads_book_id\n",
    "JOIN BooksDB.dbo.tags AS tags\n",
    "ON book_tags.tag_id = tags.tag_id\n",
    "WHERE tags.tag_name = 'pie' OR tags.tag_name = 'pie day' OR tags.tag_name = 'baking'"
   ]
  },
  {
   "cell_type": "markdown",
   "metadata": {},
   "source": [
    "Record your thoughts about why you wrote the query the way you did."
   ]
  },
  {
   "cell_type": "markdown",
   "metadata": {},
   "source": [
    "# Part 2: Choose Another Month\n",
    "\n",
    "Choose another month and plan at least 2 events / promotions and answer the following questions:\n",
    "1. Which month did you choose?\n",
    "1. What 2 events / promotions are you highlighting?"
   ]
  },
  {
   "cell_type": "markdown",
   "metadata": {},
   "source": [
    "# Part 3: Summarize your Work\n",
    "\n",
    "For each event write at least one query that joins any two tables in `BooksDB` to support your choice and record you thoughts as to why you used the paticlular query. At least one of your queries needs to include a `HAVING` clause."
   ]
  },
  {
   "cell_type": "code",
   "execution_count": null,
   "metadata": {
    "vscode": {
     "languageId": "sql"
    }
   },
   "outputs": [],
   "source": [
    "-- return book titles for month of june related to fathers day or juneteenth. \n",
    "SELECT \n",
    "    books.title\n",
    "FROM BooksDB.dbo.books AS books\n",
    "JOIN BooksDB.dbo.book_tags AS book_tags\n",
    "ON books.best_book_id = book_tags.goodreads_book_id\n",
    "JOIN BooksDB.dbo.tags AS tags\n",
    "ON book_tags.tag_id = tags.tag_id\n",
    "WHERE (tags.tag_name = 'fathers day' OR tags.tag_name = 'juneteenth')\n",
    "AND MONTH(books.publication_date) = 6"
   ]
  },
  {
   "cell_type": "markdown",
   "metadata": {},
   "source": [
    "### Summarize Event 1\n",
    "\n",
    "Double-click to edit."
   ]
  },
  {
   "cell_type": "code",
   "execution_count": null,
   "metadata": {
    "vscode": {
     "languageId": "sql"
    }
   },
   "outputs": [],
   "source": [
    "SELECT \n",
    "    books.title,\n",
    "    books.authors,\n",
    "    books.average_rating,\n",
    "    book_tags.tag_id,\n",
    "    tags.tag_name\n",
    "FROM BooksDB.dbo.books AS books\n",
    "JOIN BooksDB.dbo.book_tags AS book_tags\n",
    "ON books.best_book_id = book_tags.goodreads_book_id\n",
    "JOIN BooksDB.dbo.tags AS tags\n",
    "ON book_tags.tag_id = tags.tag_id\n",
    "WHERE tags.tag_name like '%fathers day%' OR tags.tag_name like '%juneteenth%' OR tags.tag_name = 'dad'\n",
    "GROUP BY \n",
    "    books.title, \n",
    "    books.authors, \n",
    "    books.average_rating, \n",
    "    book_tags.tag_id,\n",
    "    tags.tag_name\n",
    "    HAVING \n",
    "    COUNT(tags.tag_id) >= 1"
   ]
  },
  {
   "cell_type": "markdown",
   "metadata": {},
   "source": [
    "### Summarize Event 2\n",
    "\n",
    "Double-click to edit."
   ]
  }
 ],
 "metadata": {
  "language_info": {
   "name": "python"
  }
 },
 "nbformat": 4,
 "nbformat_minor": 2
}
